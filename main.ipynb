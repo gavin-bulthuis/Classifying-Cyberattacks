{
 "cells": [
  {
   "cell_type": "code",
   "execution_count": 774,
   "metadata": {
    "id": "pW1fY7fsCNJ1"
   },
   "outputs": [],
   "source": [
    "# Loading and installing the required libraries\n",
    "import pandas as pd\n",
    "import seaborn as sns\n",
    "import matplotlib.pyplot as plt\n",
    "import numpy as np\n",
    "import sklearn\n",
    "from sklearn.feature_selection import SelectKBest, f_classif\n",
    "from sklearn.utils import resample\n",
    "from sklearn.model_selection import train_test_split\n",
    "from sklearn.preprocessing import LabelEncoder\n",
    "from sklearn.preprocessing import StandardScaler\n",
    "from sklearn.ensemble import RandomForestClassifier\n",
    "from sklearn.metrics import classification_report, accuracy_score, confusion_matrix, f1_score\n",
    "import shap\n",
    "import re\n",
    "import xgboost as xgb\n",
    "from xgboost import XGBClassifier"
   ]
  },
  {
   "cell_type": "code",
   "execution_count": 775,
   "metadata": {
    "colab": {
     "base_uri": "https://localhost:8080/",
     "height": 446
    },
    "id": "FBWKu8zwCNJ2",
    "outputId": "9b5ad42b-16c8-4bc3-c078-429a99c024f5"
   },
   "outputs": [
    {
     "data": {
      "text/html": [
       "<div>\n",
       "<style scoped>\n",
       "    .dataframe tbody tr th:only-of-type {\n",
       "        vertical-align: middle;\n",
       "    }\n",
       "\n",
       "    .dataframe tbody tr th {\n",
       "        vertical-align: top;\n",
       "    }\n",
       "\n",
       "    .dataframe thead th {\n",
       "        text-align: right;\n",
       "    }\n",
       "</style>\n",
       "<table border=\"1\" class=\"dataframe\">\n",
       "  <thead>\n",
       "    <tr style=\"text-align: right;\">\n",
       "      <th></th>\n",
       "      <th>Unnamed: 0</th>\n",
       "      <th>Timestamp</th>\n",
       "      <th>Source.IP.Address</th>\n",
       "      <th>Destination.IP.Address</th>\n",
       "      <th>Source.Port</th>\n",
       "      <th>Destination.Port</th>\n",
       "      <th>Protocol</th>\n",
       "      <th>Packet.Length</th>\n",
       "      <th>Packet.Type</th>\n",
       "      <th>Traffic.Type</th>\n",
       "      <th>...</th>\n",
       "      <th>Action.Taken</th>\n",
       "      <th>Severity.Level</th>\n",
       "      <th>User.Information</th>\n",
       "      <th>Device.Information</th>\n",
       "      <th>Network.Segment</th>\n",
       "      <th>Geo.location.Data</th>\n",
       "      <th>Proxy.Information</th>\n",
       "      <th>Firewall.Logs</th>\n",
       "      <th>IDS.IPS.Alerts</th>\n",
       "      <th>Log.Source</th>\n",
       "    </tr>\n",
       "  </thead>\n",
       "  <tbody>\n",
       "    <tr>\n",
       "      <th>0</th>\n",
       "      <td>1</td>\n",
       "      <td>2023-05-30 06:33:58</td>\n",
       "      <td>103.216.15.12</td>\n",
       "      <td>84.9.164.252</td>\n",
       "      <td>31225</td>\n",
       "      <td>17616</td>\n",
       "      <td>ICMP</td>\n",
       "      <td>503</td>\n",
       "      <td>Data</td>\n",
       "      <td>HTTP</td>\n",
       "      <td>...</td>\n",
       "      <td>Logged</td>\n",
       "      <td>Low</td>\n",
       "      <td>Reyansh Dugal</td>\n",
       "      <td>Mozilla/5.0 (compatible; MSIE 8.0; Windows NT ...</td>\n",
       "      <td>Segment A</td>\n",
       "      <td>Jamshedpur, Sikkim</td>\n",
       "      <td>150.9.97.135</td>\n",
       "      <td>Log Data</td>\n",
       "      <td>No Alert Data</td>\n",
       "      <td>Server</td>\n",
       "    </tr>\n",
       "    <tr>\n",
       "      <th>1</th>\n",
       "      <td>2</td>\n",
       "      <td>2020-08-26 07:08:30</td>\n",
       "      <td>78.199.217.198</td>\n",
       "      <td>66.191.137.154</td>\n",
       "      <td>17245</td>\n",
       "      <td>48166</td>\n",
       "      <td>ICMP</td>\n",
       "      <td>1174</td>\n",
       "      <td>Data</td>\n",
       "      <td>HTTP</td>\n",
       "      <td>...</td>\n",
       "      <td>Blocked</td>\n",
       "      <td>Low</td>\n",
       "      <td>Sumer Rana</td>\n",
       "      <td>Mozilla/5.0 (compatible; MSIE 8.0; Windows NT ...</td>\n",
       "      <td>Segment B</td>\n",
       "      <td>Bilaspur, Nagaland</td>\n",
       "      <td>No Proxy Info</td>\n",
       "      <td>Log Data</td>\n",
       "      <td>No Alert Data</td>\n",
       "      <td>Firewall</td>\n",
       "    </tr>\n",
       "    <tr>\n",
       "      <th>2</th>\n",
       "      <td>3</td>\n",
       "      <td>2022-11-13 08:23:25</td>\n",
       "      <td>63.79.210.48</td>\n",
       "      <td>198.219.82.17</td>\n",
       "      <td>16811</td>\n",
       "      <td>53600</td>\n",
       "      <td>UDP</td>\n",
       "      <td>306</td>\n",
       "      <td>Control</td>\n",
       "      <td>HTTP</td>\n",
       "      <td>...</td>\n",
       "      <td>Ignored</td>\n",
       "      <td>Low</td>\n",
       "      <td>Himmat Karpe</td>\n",
       "      <td>Mozilla/5.0 (compatible; MSIE 9.0; Windows NT ...</td>\n",
       "      <td>Segment C</td>\n",
       "      <td>Bokaro, Rajasthan</td>\n",
       "      <td>114.133.48.179</td>\n",
       "      <td>Log Data</td>\n",
       "      <td>Alert Data</td>\n",
       "      <td>Firewall</td>\n",
       "    </tr>\n",
       "    <tr>\n",
       "      <th>3</th>\n",
       "      <td>4</td>\n",
       "      <td>2023-07-02 10:38:46</td>\n",
       "      <td>163.42.196.10</td>\n",
       "      <td>101.228.192.255</td>\n",
       "      <td>20018</td>\n",
       "      <td>32534</td>\n",
       "      <td>UDP</td>\n",
       "      <td>385</td>\n",
       "      <td>Data</td>\n",
       "      <td>HTTP</td>\n",
       "      <td>...</td>\n",
       "      <td>Blocked</td>\n",
       "      <td>Medium</td>\n",
       "      <td>Fateh Kibe</td>\n",
       "      <td>Mozilla/5.0 (Macintosh; PPC Mac OS X 10_11_5; ...</td>\n",
       "      <td>Segment B</td>\n",
       "      <td>Jaunpur, Rajasthan</td>\n",
       "      <td>No Proxy Info</td>\n",
       "      <td>NaN</td>\n",
       "      <td>Alert Data</td>\n",
       "      <td>Firewall</td>\n",
       "    </tr>\n",
       "    <tr>\n",
       "      <th>4</th>\n",
       "      <td>5</td>\n",
       "      <td>2023-07-16 13:11:07</td>\n",
       "      <td>71.166.185.76</td>\n",
       "      <td>189.243.174.238</td>\n",
       "      <td>6131</td>\n",
       "      <td>26646</td>\n",
       "      <td>TCP</td>\n",
       "      <td>1462</td>\n",
       "      <td>Data</td>\n",
       "      <td>DNS</td>\n",
       "      <td>...</td>\n",
       "      <td>Blocked</td>\n",
       "      <td>Low</td>\n",
       "      <td>Dhanush Chad</td>\n",
       "      <td>Mozilla/5.0 (compatible; MSIE 5.0; Windows NT ...</td>\n",
       "      <td>Segment C</td>\n",
       "      <td>Anantapur, Tripura</td>\n",
       "      <td>149.6.110.119</td>\n",
       "      <td>NaN</td>\n",
       "      <td>Alert Data</td>\n",
       "      <td>Firewall</td>\n",
       "    </tr>\n",
       "  </tbody>\n",
       "</table>\n",
       "<p>5 rows × 26 columns</p>\n",
       "</div>"
      ],
      "text/plain": [
       "   Unnamed: 0            Timestamp Source.IP.Address Destination.IP.Address  \\\n",
       "0           1  2023-05-30 06:33:58     103.216.15.12           84.9.164.252   \n",
       "1           2  2020-08-26 07:08:30    78.199.217.198         66.191.137.154   \n",
       "2           3  2022-11-13 08:23:25      63.79.210.48          198.219.82.17   \n",
       "3           4  2023-07-02 10:38:46     163.42.196.10        101.228.192.255   \n",
       "4           5  2023-07-16 13:11:07     71.166.185.76        189.243.174.238   \n",
       "\n",
       "   Source.Port  Destination.Port Protocol  Packet.Length Packet.Type  \\\n",
       "0        31225             17616     ICMP            503        Data   \n",
       "1        17245             48166     ICMP           1174        Data   \n",
       "2        16811             53600      UDP            306     Control   \n",
       "3        20018             32534      UDP            385        Data   \n",
       "4         6131             26646      TCP           1462        Data   \n",
       "\n",
       "  Traffic.Type  ... Action.Taken Severity.Level  User.Information  \\\n",
       "0         HTTP  ...       Logged            Low     Reyansh Dugal   \n",
       "1         HTTP  ...      Blocked            Low        Sumer Rana   \n",
       "2         HTTP  ...      Ignored            Low      Himmat Karpe   \n",
       "3         HTTP  ...      Blocked         Medium        Fateh Kibe   \n",
       "4          DNS  ...      Blocked            Low      Dhanush Chad   \n",
       "\n",
       "                                  Device.Information Network.Segment  \\\n",
       "0  Mozilla/5.0 (compatible; MSIE 8.0; Windows NT ...       Segment A   \n",
       "1  Mozilla/5.0 (compatible; MSIE 8.0; Windows NT ...       Segment B   \n",
       "2  Mozilla/5.0 (compatible; MSIE 9.0; Windows NT ...       Segment C   \n",
       "3  Mozilla/5.0 (Macintosh; PPC Mac OS X 10_11_5; ...       Segment B   \n",
       "4  Mozilla/5.0 (compatible; MSIE 5.0; Windows NT ...       Segment C   \n",
       "\n",
       "    Geo.location.Data Proxy.Information Firewall.Logs IDS.IPS.Alerts  \\\n",
       "0  Jamshedpur, Sikkim      150.9.97.135      Log Data  No Alert Data   \n",
       "1  Bilaspur, Nagaland     No Proxy Info      Log Data  No Alert Data   \n",
       "2   Bokaro, Rajasthan    114.133.48.179      Log Data     Alert Data   \n",
       "3  Jaunpur, Rajasthan     No Proxy Info           NaN     Alert Data   \n",
       "4  Anantapur, Tripura     149.6.110.119           NaN     Alert Data   \n",
       "\n",
       "  Log.Source  \n",
       "0     Server  \n",
       "1   Firewall  \n",
       "2   Firewall  \n",
       "3   Firewall  \n",
       "4   Firewall  \n",
       "\n",
       "[5 rows x 26 columns]"
      ]
     },
     "execution_count": 775,
     "metadata": {},
     "output_type": "execute_result"
    }
   ],
   "source": [
    "# Load Dataset\n",
    "data = pd.read_csv(\"filled_cybersecurity_data.csv\")\n",
    "\n",
    "# Preview Dataset\n",
    "data.head()"
   ]
  },
  {
   "cell_type": "code",
   "execution_count": 776,
   "metadata": {
    "colab": {
     "base_uri": "https://localhost:8080/"
    },
    "id": "7cPT-aFACNJ3",
    "outputId": "33e254cc-db73-4faa-b0fd-cb41c08990cf"
   },
   "outputs": [
    {
     "name": "stdout",
     "output_type": "stream",
     "text": [
      "<class 'pandas.core.frame.DataFrame'>\n",
      "RangeIndex: 40000 entries, 0 to 39999\n",
      "Data columns (total 26 columns):\n",
      " #   Column                  Non-Null Count  Dtype  \n",
      "---  ------                  --------------  -----  \n",
      " 0   Unnamed: 0              40000 non-null  int64  \n",
      " 1   Timestamp               40000 non-null  object \n",
      " 2   Source.IP.Address       40000 non-null  object \n",
      " 3   Destination.IP.Address  40000 non-null  object \n",
      " 4   Source.Port             40000 non-null  int64  \n",
      " 5   Destination.Port        40000 non-null  int64  \n",
      " 6   Protocol                40000 non-null  object \n",
      " 7   Packet.Length           40000 non-null  int64  \n",
      " 8   Packet.Type             40000 non-null  object \n",
      " 9   Traffic.Type            40000 non-null  object \n",
      " 10  Payload.Data            40000 non-null  object \n",
      " 11  Malware.Indicators      40000 non-null  object \n",
      " 12  Anomaly.Scores          40000 non-null  float64\n",
      " 13  Alerts.Warnings         40000 non-null  object \n",
      " 14  Attack.Type             40000 non-null  object \n",
      " 15  Attack.Signature        40000 non-null  object \n",
      " 16  Action.Taken            40000 non-null  object \n",
      " 17  Severity.Level          40000 non-null  object \n",
      " 18  User.Information        40000 non-null  object \n",
      " 19  Device.Information      40000 non-null  object \n",
      " 20  Network.Segment         40000 non-null  object \n",
      " 21  Geo.location.Data       40000 non-null  object \n",
      " 22  Proxy.Information       40000 non-null  object \n",
      " 23  Firewall.Logs           20039 non-null  object \n",
      " 24  IDS.IPS.Alerts          40000 non-null  object \n",
      " 25  Log.Source              40000 non-null  object \n",
      "dtypes: float64(1), int64(4), object(21)\n",
      "memory usage: 7.9+ MB\n"
     ]
    }
   ],
   "source": [
    "data.info()"
   ]
  },
  {
   "cell_type": "code",
   "execution_count": 777,
   "metadata": {
    "colab": {
     "base_uri": "https://localhost:8080/"
    },
    "id": "bWHTshaLCNJ3",
    "outputId": "adadd8e8-3a7f-46dc-f3c8-05c35b5ccad6"
   },
   "outputs": [
    {
     "name": "stdout",
     "output_type": "stream",
     "text": [
      "Unnamed: 0                    0\n",
      "Timestamp                     0\n",
      "Source.IP.Address             0\n",
      "Destination.IP.Address        0\n",
      "Source.Port                   0\n",
      "Destination.Port              0\n",
      "Protocol                      0\n",
      "Packet.Length                 0\n",
      "Packet.Type                   0\n",
      "Traffic.Type                  0\n",
      "Payload.Data                  0\n",
      "Malware.Indicators            0\n",
      "Anomaly.Scores                0\n",
      "Alerts.Warnings               0\n",
      "Attack.Type                   0\n",
      "Attack.Signature              0\n",
      "Action.Taken                  0\n",
      "Severity.Level                0\n",
      "User.Information              0\n",
      "Device.Information            0\n",
      "Network.Segment               0\n",
      "Geo.location.Data             0\n",
      "Proxy.Information             0\n",
      "Firewall.Logs             19961\n",
      "IDS.IPS.Alerts                0\n",
      "Log.Source                    0\n",
      "dtype: int64\n"
     ]
    }
   ],
   "source": [
    "# Check for missing values\n",
    "print(data.isnull().sum())"
   ]
  },
  {
   "cell_type": "code",
   "execution_count": 778,
   "metadata": {},
   "outputs": [
    {
     "data": {
      "text/plain": [
       "0        Mozilla/5.0 (compatible; MSIE 8.0; Windows NT ...\n",
       "1        Mozilla/5.0 (compatible; MSIE 8.0; Windows NT ...\n",
       "2        Mozilla/5.0 (compatible; MSIE 9.0; Windows NT ...\n",
       "3        Mozilla/5.0 (Macintosh; PPC Mac OS X 10_11_5; ...\n",
       "4        Mozilla/5.0 (compatible; MSIE 5.0; Windows NT ...\n",
       "                               ...                        \n",
       "39995    Mozilla/5.0 (iPad; CPU iPad OS 14_2_1 like Mac...\n",
       "39996    Mozilla/5.0 (Windows; U; Windows 98; Win 9x 4....\n",
       "39997    Mozilla/5.0 (Windows; U; Windows NT 4.0) Apple...\n",
       "39998    Mozilla/5.0 (X11; Linux i686) AppleWebKit/536....\n",
       "39999    Mozilla/5.0 (iPod; U; CPU iPhone OS 3_0 like M...\n",
       "Name: Device.Information, Length: 40000, dtype: object"
      ]
     },
     "execution_count": 778,
     "metadata": {},
     "output_type": "execute_result"
    }
   ],
   "source": [
    "# Device Information\n",
    "data['Device.Information']"
   ]
  },
  {
   "cell_type": "markdown",
   "metadata": {},
   "source": [
    "Device Information has values that are very useful to us but it is confusing to read and hard to use when it is not indexed as it is."
   ]
  },
  {
   "cell_type": "code",
   "execution_count": 779,
   "metadata": {},
   "outputs": [],
   "source": [
    "# Function to extract OS, device type, and browser\n",
    "def extract_user_agent_info(ua_string):\n",
    "    # Extract the part within parentheses (OS and device type)\n",
    "    os_device_match = re.search(r'\\((.*?)\\)', ua_string)\n",
    "    os_device = os_device_match.group(1) if os_device_match else \"Unknown\"\n",
    "\n",
    "    # Extract the browser details (after last space and before the version)\n",
    "    browser_match = re.search(r'([A-Za-z]+)/\\d+\\.\\d+', ua_string)\n",
    "    browser = browser_match.group(1) if browser_match else \"Unknown\"\n",
    "\n",
    "    return os_device, browser"
   ]
  },
  {
   "cell_type": "code",
   "execution_count": 780,
   "metadata": {},
   "outputs": [],
   "source": [
    "# Add two new columns for os_device and browser\n",
    "data.insert(0, \"Os.Device\", 0, allow_duplicates=True)\n",
    "data.insert(0, \"Browser\", 0, allow_duplicates=True)\n"
   ]
  },
  {
   "cell_type": "code",
   "execution_count": 781,
   "metadata": {},
   "outputs": [
    {
     "name": "stderr",
     "output_type": "stream",
     "text": [
      "C:\\Users\\rocks\\AppData\\Local\\Temp\\ipykernel_12100\\3123403730.py:5: SettingWithCopyWarning: \n",
      "A value is trying to be set on a copy of a slice from a DataFrame\n",
      "\n",
      "See the caveats in the documentation: https://pandas.pydata.org/pandas-docs/stable/user_guide/indexing.html#returning-a-view-versus-a-copy\n",
      "  data['Os.Device'][idx] = os_device\n",
      "C:\\Users\\rocks\\AppData\\Local\\Temp\\ipykernel_12100\\3123403730.py:6: SettingWithCopyWarning: \n",
      "A value is trying to be set on a copy of a slice from a DataFrame\n",
      "\n",
      "See the caveats in the documentation: https://pandas.pydata.org/pandas-docs/stable/user_guide/indexing.html#returning-a-view-versus-a-copy\n",
      "  data['Browser'][idx] = browser\n"
     ]
    }
   ],
   "source": [
    "\n",
    "# Apply function\n",
    "idx = 0\n",
    "for ua in data['Device.Information']:\n",
    "    os_device, browser = extract_user_agent_info(ua)\n",
    "    data['Os.Device'][idx] = os_device\n",
    "    data['Browser'][idx] = browser\n",
    "    idx += 1"
   ]
  },
  {
   "cell_type": "code",
   "execution_count": 782,
   "metadata": {},
   "outputs": [],
   "source": [
    "# Checking to make sure the columns were added successfully\n",
    "data.head()\n",
    "\n",
    "# Dropping unneccessary columns\n",
    "data = data.drop(columns=['Device.Information', 'Unnamed: 0'])"
   ]
  },
  {
   "cell_type": "code",
   "execution_count": 783,
   "metadata": {
    "colab": {
     "base_uri": "https://localhost:8080/",
     "height": 1000
    },
    "id": "FOiCkxYdCNJ4",
    "outputId": "47284d98-783c-4eaa-ee66-886451fe5fce"
   },
   "outputs": [
    {
     "data": {
      "image/png": "[encoded data removed]",
      "text/plain": [
       "<Figure size 720x360 with 1 Axes>"
      ]
     },
     "metadata": {
      "needs_background": "light"
     },
     "output_type": "display_data"
    },
    {
     "data": {
      "image/png": "[encoded data removed]",
      "text/plain": [
       "<Figure size 720x360 with 1 Axes>"
      ]
     },
     "metadata": {
      "needs_background": "light"
     },
     "output_type": "display_data"
    },
    {
     "data": {
      "image/png": "[encoded data removed]",
      "text/plain": [
       "<Figure size 720x360 with 1 Axes>"
      ]
     },
     "metadata": {
      "needs_background": "light"
     },
     "output_type": "display_data"
    },
    {
     "data": {
      "image/png": "[encoded data removed]",
      "text/plain": [
       "<Figure size 720x360 with 1 Axes>"
      ]
     },
     "metadata": {
      "needs_background": "light"
     },
     "output_type": "display_data"
    },
    {
     "data": {
      "image/png": "[encoded data removed]",
      "text/plain": [
       "<Figure size 720x360 with 1 Axes>"
      ]
     },
     "metadata": {
      "needs_background": "light"
     },
     "output_type": "display_data"
    },
    {
     "data": {
      "image/png": "[encoded data removed]",
      "text/plain": [
       "<Figure size 864x576 with 2 Axes>"
      ]
     },
     "metadata": {
      "needs_background": "light"
     },
     "output_type": "display_data"
    }
   ],
   "source": [
    "# EDA: Explore Distributions of Numerical Features\n",
    "numerical_features = data.select_dtypes(include=['int64', 'float64']).columns\n",
    "for feature in numerical_features:\n",
    "    plt.figure(figsize=(10, 5))\n",
    "    sns.histplot(data[feature], kde=True, bins=30)\n",
    "    plt.title(f\"Distribution of {feature}\")\n",
    "    plt.xlabel(feature)\n",
    "    plt.ylabel(\"Frequency\")\n",
    "    plt.show()\n",
    "\n",
    "# EDA: Class Distribution for Target Variable\n",
    "plt.figure(figsize=(10, 5))\n",
    "sns.countplot(x='Attack.Type', data=data, order=data['Attack.Type'].value_counts().index)\n",
    "plt.title(\"Class Distribution of Attack Type\")\n",
    "plt.xlabel(\"Attack Type\")\n",
    "plt.ylabel(\"Count\")\n",
    "plt.show()\n",
    "\n",
    "# EDA: Correlation Heatmap\n",
    "plt.figure(figsize=(12, 8))\n",
    "numeric_columns = data.select_dtypes(include=['int64', 'float64']).columns\n",
    "correlation_matrix = data[numeric_columns].corr()\n",
    "sns.heatmap(correlation_matrix, annot=True, fmt='.2f', cmap='coolwarm', cbar=True)\n",
    "plt.title(\"Correlation Heatmap of Numerical Features\")\n",
    "plt.show()"
   ]
  },
  {
   "cell_type": "code",
   "execution_count": 784,
   "metadata": {},
   "outputs": [
    {
     "name": "stdout",
     "output_type": "stream",
     "text": [
      "<class 'pandas.core.frame.DataFrame'>\n",
      "RangeIndex: 40000 entries, 0 to 39999\n",
      "Data columns (total 26 columns):\n",
      " #   Column                  Non-Null Count  Dtype  \n",
      "---  ------                  --------------  -----  \n",
      " 0   Browser                 40000 non-null  object \n",
      " 1   Os.Device               40000 non-null  object \n",
      " 2   Timestamp               40000 non-null  object \n",
      " 3   Source.IP.Address       40000 non-null  object \n",
      " 4   Destination.IP.Address  40000 non-null  object \n",
      " 5   Source.Port             40000 non-null  int64  \n",
      " 6   Destination.Port        40000 non-null  int64  \n",
      " 7   Protocol                40000 non-null  object \n",
      " 8   Packet.Length           40000 non-null  int64  \n",
      " 9   Packet.Type             40000 non-null  object \n",
      " 10  Traffic.Type            40000 non-null  object \n",
      " 11  Payload.Data            40000 non-null  object \n",
      " 12  Malware.Indicators      40000 non-null  object \n",
      " 13  Anomaly.Scores          40000 non-null  float64\n",
      " 14  Alerts.Warnings         40000 non-null  object \n",
      " 15  Attack.Type             40000 non-null  object \n",
      " 16  Attack.Signature        40000 non-null  object \n",
      " 17  Action.Taken            40000 non-null  object \n",
      " 18  Severity.Level          40000 non-null  object \n",
      " 19  User.Information        40000 non-null  object \n",
      " 20  Network.Segment         40000 non-null  object \n",
      " 21  Geo.location.Data       40000 non-null  object \n",
      " 22  Proxy.Information       40000 non-null  object \n",
      " 23  Firewall.Logs           20039 non-null  object \n",
      " 24  IDS.IPS.Alerts          40000 non-null  object \n",
      " 25  Log.Source              40000 non-null  object \n",
      "dtypes: float64(1), int64(3), object(22)\n",
      "memory usage: 7.9+ MB\n"
     ]
    }
   ],
   "source": [
    "data.info()"
   ]
  },
  {
   "cell_type": "code",
   "execution_count": 785,
   "metadata": {
    "id": "J6K5prkICNJ4"
   },
   "outputs": [],
   "source": [
    "# Handle missing data\n",
    "data = data.drop(columns=['Firewall.Logs'])\n",
    "\n",
    "# Encode target variable 'Attack Type'\n",
    "le = LabelEncoder()\n",
    "data['Attack.Type'] = le.fit_transform(data['Attack.Type'])\n",
    "\n",
    "# Drop high-cardinality features\n",
    "data = data.drop(columns=['Source.IP.Address', 'Destination.IP.Address', 'Timestamp', 'Payload.Data'])\n",
    "\n",
    "# Label encode remaining categorical features\n",
    "categorical_features = data.select_dtypes(include=['object']).columns\n",
    "for feature in categorical_features:\n",
    "    data[feature] = le.fit_transform(data[feature])\n",
    "\n",
    "# Separate features (X) and target (y)\n",
    "X = data.drop(columns=['Attack.Type'])\n",
    "y = data['Attack.Type']\n",
    "\n",
    "# Split into training and testing sets\n",
    "X_train, X_test, y_train, y_test = train_test_split(X, y, test_size=0.2, random_state=42, stratify=y)\n"
   ]
  },
  {
   "cell_type": "code",
   "execution_count": 786,
   "metadata": {},
   "outputs": [
    {
     "name": "stdout",
     "output_type": "stream",
     "text": [
      "<class 'pandas.core.frame.DataFrame'>\n",
      "RangeIndex: 40000 entries, 0 to 39999\n",
      "Data columns (total 21 columns):\n",
      " #   Column              Non-Null Count  Dtype  \n",
      "---  ------              --------------  -----  \n",
      " 0   Browser             40000 non-null  int32  \n",
      " 1   Os.Device           40000 non-null  int32  \n",
      " 2   Source.Port         40000 non-null  int64  \n",
      " 3   Destination.Port    40000 non-null  int64  \n",
      " 4   Protocol            40000 non-null  int32  \n",
      " 5   Packet.Length       40000 non-null  int64  \n",
      " 6   Packet.Type         40000 non-null  int32  \n",
      " 7   Traffic.Type        40000 non-null  int32  \n",
      " 8   Malware.Indicators  40000 non-null  int32  \n",
      " 9   Anomaly.Scores      40000 non-null  float64\n",
      " 10  Alerts.Warnings     40000 non-null  int32  \n",
      " 11  Attack.Type         40000 non-null  int32  \n",
      " 12  Attack.Signature    40000 non-null  int32  \n",
      " 13  Action.Taken        40000 non-null  int32  \n",
      " 14  Severity.Level      40000 non-null  int32  \n",
      " 15  User.Information    40000 non-null  int32  \n",
      " 16  Network.Segment     40000 non-null  int32  \n",
      " 17  Geo.location.Data   40000 non-null  int32  \n",
      " 18  Proxy.Information   40000 non-null  int32  \n",
      " 19  IDS.IPS.Alerts      40000 non-null  int32  \n",
      " 20  Log.Source          40000 non-null  int32  \n",
      "dtypes: float64(1), int32(17), int64(3)\n",
      "memory usage: 3.8 MB\n"
     ]
    }
   ],
   "source": [
    "data.info()"
   ]
  },
  {
   "cell_type": "code",
   "execution_count": 787,
   "metadata": {
    "id": "jUBvscglCNJ4"
   },
   "outputs": [],
   "source": [
    "# Balance classes by undersampling majority classes\n",
    "train_data = pd.concat([X_train, y_train], axis=1)\n",
    "class_count = train_data['Attack.Type'].value_counts()\n",
    "min_class_size = class_count.min()\n",
    "\n",
    "# Downsample majority classes\n",
    "balanced_train_data = pd.concat(\n",
    "    [resample(train_data[train_data['Attack.Type'] == cls],\n",
    "              replace=False, # no replacement\n",
    "              n_samples=min_class_size, # match minority class size\n",
    "              random_state=42)\n",
    "    for cls in class_count.index]\n",
    ")\n",
    "\n",
    "# Separate features and target after balancing\n",
    "X_train_balanced = balanced_train_data.drop(columns=['Attack.Type'])\n",
    "y_train_balanced = balanced_train_data['Attack.Type']"
   ]
  },
  {
   "cell_type": "code",
   "execution_count": 788,
   "metadata": {
    "id": "5a-5rQo3CNJ4"
   },
   "outputs": [],
   "source": [
    "# Standardize Numerical Features\n",
    "numerical_features = X_train_balanced.select_dtypes(include=['int64', 'int32', 'float64']).columns\n",
    "\n",
    "scaler = StandardScaler()\n",
    "X_train_balanced[numerical_features] = scaler.fit_transform(X_train_balanced[numerical_features])\n",
    "X_test[numerical_features] = scaler.transform(X_test[numerical_features])"
   ]
  },
  {
   "cell_type": "code",
   "execution_count": 789,
   "metadata": {},
   "outputs": [
    {
     "data": {
      "text/html": [
       "<div>\n",
       "<style scoped>\n",
       "    .dataframe tbody tr th:only-of-type {\n",
       "        vertical-align: middle;\n",
       "    }\n",
       "\n",
       "    .dataframe tbody tr th {\n",
       "        vertical-align: top;\n",
       "    }\n",
       "\n",
       "    .dataframe thead th {\n",
       "        text-align: right;\n",
       "    }\n",
       "</style>\n",
       "<table border=\"1\" class=\"dataframe\">\n",
       "  <thead>\n",
       "    <tr style=\"text-align: right;\">\n",
       "      <th></th>\n",
       "      <th>Browser</th>\n",
       "      <th>Os.Device</th>\n",
       "      <th>Source.Port</th>\n",
       "      <th>Destination.Port</th>\n",
       "      <th>Protocol</th>\n",
       "      <th>Packet.Length</th>\n",
       "      <th>Packet.Type</th>\n",
       "      <th>Traffic.Type</th>\n",
       "      <th>Malware.Indicators</th>\n",
       "      <th>Anomaly.Scores</th>\n",
       "      <th>Alerts.Warnings</th>\n",
       "      <th>Attack.Signature</th>\n",
       "      <th>Action.Taken</th>\n",
       "      <th>Severity.Level</th>\n",
       "      <th>User.Information</th>\n",
       "      <th>Network.Segment</th>\n",
       "      <th>Geo.location.Data</th>\n",
       "      <th>Proxy.Information</th>\n",
       "      <th>IDS.IPS.Alerts</th>\n",
       "      <th>Log.Source</th>\n",
       "    </tr>\n",
       "  </thead>\n",
       "  <tbody>\n",
       "    <tr>\n",
       "      <th>34245</th>\n",
       "      <td>0</td>\n",
       "      <td>2933</td>\n",
       "      <td>32215</td>\n",
       "      <td>53447</td>\n",
       "      <td>2</td>\n",
       "      <td>673</td>\n",
       "      <td>0</td>\n",
       "      <td>2</td>\n",
       "      <td>1</td>\n",
       "      <td>62.34</td>\n",
       "      <td>1</td>\n",
       "      <td>0</td>\n",
       "      <td>2</td>\n",
       "      <td>1</td>\n",
       "      <td>23647</td>\n",
       "      <td>1</td>\n",
       "      <td>744</td>\n",
       "      <td>20148</td>\n",
       "      <td>0</td>\n",
       "      <td>0</td>\n",
       "    </tr>\n",
       "    <tr>\n",
       "      <th>8119</th>\n",
       "      <td>0</td>\n",
       "      <td>7548</td>\n",
       "      <td>65337</td>\n",
       "      <td>6151</td>\n",
       "      <td>2</td>\n",
       "      <td>157</td>\n",
       "      <td>1</td>\n",
       "      <td>1</td>\n",
       "      <td>0</td>\n",
       "      <td>75.17</td>\n",
       "      <td>1</td>\n",
       "      <td>1</td>\n",
       "      <td>2</td>\n",
       "      <td>2</td>\n",
       "      <td>2469</td>\n",
       "      <td>0</td>\n",
       "      <td>1755</td>\n",
       "      <td>9625</td>\n",
       "      <td>0</td>\n",
       "      <td>0</td>\n",
       "    </tr>\n",
       "    <tr>\n",
       "      <th>37921</th>\n",
       "      <td>0</td>\n",
       "      <td>495</td>\n",
       "      <td>5188</td>\n",
       "      <td>31282</td>\n",
       "      <td>2</td>\n",
       "      <td>520</td>\n",
       "      <td>0</td>\n",
       "      <td>2</td>\n",
       "      <td>0</td>\n",
       "      <td>48.72</td>\n",
       "      <td>1</td>\n",
       "      <td>0</td>\n",
       "      <td>1</td>\n",
       "      <td>1</td>\n",
       "      <td>1507</td>\n",
       "      <td>0</td>\n",
       "      <td>5245</td>\n",
       "      <td>20148</td>\n",
       "      <td>1</td>\n",
       "      <td>1</td>\n",
       "    </tr>\n",
       "    <tr>\n",
       "      <th>33187</th>\n",
       "      <td>0</td>\n",
       "      <td>1354</td>\n",
       "      <td>5690</td>\n",
       "      <td>20674</td>\n",
       "      <td>1</td>\n",
       "      <td>1193</td>\n",
       "      <td>0</td>\n",
       "      <td>2</td>\n",
       "      <td>1</td>\n",
       "      <td>32.36</td>\n",
       "      <td>0</td>\n",
       "      <td>0</td>\n",
       "      <td>2</td>\n",
       "      <td>0</td>\n",
       "      <td>16280</td>\n",
       "      <td>2</td>\n",
       "      <td>6318</td>\n",
       "      <td>20148</td>\n",
       "      <td>0</td>\n",
       "      <td>1</td>\n",
       "    </tr>\n",
       "    <tr>\n",
       "      <th>5490</th>\n",
       "      <td>1</td>\n",
       "      <td>9408</td>\n",
       "      <td>16646</td>\n",
       "      <td>25963</td>\n",
       "      <td>0</td>\n",
       "      <td>498</td>\n",
       "      <td>1</td>\n",
       "      <td>1</td>\n",
       "      <td>0</td>\n",
       "      <td>65.35</td>\n",
       "      <td>0</td>\n",
       "      <td>1</td>\n",
       "      <td>2</td>\n",
       "      <td>0</td>\n",
       "      <td>25219</td>\n",
       "      <td>1</td>\n",
       "      <td>2324</td>\n",
       "      <td>20148</td>\n",
       "      <td>0</td>\n",
       "      <td>1</td>\n",
       "    </tr>\n",
       "  </tbody>\n",
       "</table>\n",
       "</div>"
      ],
      "text/plain": [
       "       Browser  Os.Device  Source.Port  Destination.Port  Protocol  \\\n",
       "34245        0       2933        32215             53447         2   \n",
       "8119         0       7548        65337              6151         2   \n",
       "37921        0        495         5188             31282         2   \n",
       "33187        0       1354         5690             20674         1   \n",
       "5490         1       9408        16646             25963         0   \n",
       "\n",
       "       Packet.Length  Packet.Type  Traffic.Type  Malware.Indicators  \\\n",
       "34245            673            0             2                   1   \n",
       "8119             157            1             1                   0   \n",
       "37921            520            0             2                   0   \n",
       "33187           1193            0             2                   1   \n",
       "5490             498            1             1                   0   \n",
       "\n",
       "       Anomaly.Scores  Alerts.Warnings  Attack.Signature  Action.Taken  \\\n",
       "34245           62.34                1                 0             2   \n",
       "8119            75.17                1                 1             2   \n",
       "37921           48.72                1                 0             1   \n",
       "33187           32.36                0                 0             2   \n",
       "5490            65.35                0                 1             2   \n",
       "\n",
       "       Severity.Level  User.Information  Network.Segment  Geo.location.Data  \\\n",
       "34245               1             23647                1                744   \n",
       "8119                2              2469                0               1755   \n",
       "37921               1              1507                0               5245   \n",
       "33187               0             16280                2               6318   \n",
       "5490                0             25219                1               2324   \n",
       "\n",
       "       Proxy.Information  IDS.IPS.Alerts  Log.Source  \n",
       "34245              20148               0           0  \n",
       "8119                9625               0           0  \n",
       "37921              20148               1           1  \n",
       "33187              20148               0           1  \n",
       "5490               20148               0           1  "
      ]
     },
     "execution_count": 789,
     "metadata": {},
     "output_type": "execute_result"
    }
   ],
   "source": [
    "X_train.head()"
   ]
  },
  {
   "cell_type": "code",
   "execution_count": 790,
   "metadata": {
    "colab": {
     "base_uri": "https://localhost:8080/"
    },
    "id": "eI8qNLc9CNJ5",
    "outputId": "a6955811-fc03-40f2-ca6f-6458ff0c4330"
   },
   "outputs": [
    {
     "name": "stdout",
     "output_type": "stream",
     "text": [
      "Validation: Shape of Datasets\n",
      "Before Balancing:\n",
      "X_train: (32000, 20)\n",
      "X_test: (8000, 20)\n",
      "After Balancing:\n",
      "X_train_balanced: (31836, 20)\n",
      "y_train_balanced Distribution:\n",
      "0    10612\n",
      "2    10612\n",
      "1    10612\n",
      "Name: Attack.Type, dtype: int64\n",
      "Sample of Normalized Data:\n",
      "        Browser  Os.Device  Source.Port  Destination.Port  Protocol  \\\n",
      "36865 -0.501904  -1.390356    -0.793509          0.845456  0.009873   \n",
      "38446 -0.501904   0.708323    -1.614191          1.630740  1.232921   \n",
      "19110 -0.501904   0.733068     0.884311          1.260238 -1.213175   \n",
      "32631 -0.501904  -2.096269     1.699176         -1.588020  0.009873   \n",
      "20916 -0.501904   0.700966    -0.805410          1.448506 -1.213175   \n",
      "\n",
      "       Packet.Length  Packet.Type  Traffic.Type  Malware.Indicators  \\\n",
      "36865      -1.576196    -0.988383     -1.226672            0.999435   \n",
      "38446       1.056336    -0.988383      1.220983           -1.000566   \n",
      "19110      -1.388502    -0.988383     -0.002845            0.999435   \n",
      "32631      -0.772480    -0.988383     -0.002845           -1.000566   \n",
      "20916       0.011986     1.011754      1.220983           -1.000566   \n",
      "\n",
      "       Anomaly.Scores  Alerts.Warnings  Attack.Signature  Action.Taken  \\\n",
      "36865        0.740945         1.002453         -0.995987      0.013727   \n",
      "38446        0.852982        -0.997553          1.004029      1.237867   \n",
      "19110       -0.855664         1.002453          1.004029      0.013727   \n",
      "32631        1.268176         1.002453         -0.995987      1.237867   \n",
      "20916       -1.641656        -0.997553         -0.995987      1.237867   \n",
      "\n",
      "       Severity.Level  User.Information  Network.Segment  Geo.location.Data  \\\n",
      "36865        1.217421         -0.526784         1.224351           1.010928   \n",
      "38446       -1.225940         -1.485089        -0.000423          -1.402759   \n",
      "19110       -1.225940          1.140933        -1.225197           0.884769   \n",
      "32631        1.217421         -0.368387        -1.225197           0.205175   \n",
      "20916       -0.004260          1.490390        -1.225197          -1.306751   \n",
      "\n",
      "       Proxy.Information  IDS.IPS.Alerts  Log.Source  \n",
      "36865          -0.677139        1.001949     1.00447  \n",
      "38446          -1.737980        1.001949    -0.99555  \n",
      "19110          -0.531394       -0.998054    -0.99555  \n",
      "32631          -0.963703       -0.998054     1.00447  \n",
      "20916           0.779844       -0.998054    -0.99555  \n"
     ]
    }
   ],
   "source": [
    "# Validation After Preprocessing\n",
    "print(\"Validation: Shape of Datasets\")\n",
    "print(\"Before Balancing:\")\n",
    "print(\"X_train:\", X_train.shape)\n",
    "print(\"X_test:\", X_test.shape)\n",
    "print(\"After Balancing:\")\n",
    "print(\"X_train_balanced:\", X_train_balanced.shape)\n",
    "print(\"y_train_balanced Distribution:\")\n",
    "print(y_train_balanced.value_counts())\n",
    "\n",
    "print(\"Sample of Normalized Data:\")\n",
    "print(X_train_balanced.head())"
   ]
  },
  {
   "cell_type": "code",
   "execution_count": 791,
   "metadata": {
    "colab": {
     "base_uri": "https://localhost:8080/"
    },
    "id": "BuVq8V6uDQ4V",
    "outputId": "6d57a612-b962-4e6a-f9a0-e4bd7ebf53c4"
   },
   "outputs": [
    {
     "name": "stdout",
     "output_type": "stream",
     "text": [
      "Number of Duplicates: 0\n"
     ]
    }
   ],
   "source": [
    "# Check for duplicates\n",
    "print(\"Number of Duplicates:\", X_train_balanced.duplicated().sum())"
   ]
  },
  {
   "cell_type": "code",
   "execution_count": 792,
   "metadata": {
    "colab": {
     "base_uri": "https://localhost:8080/"
    },
    "id": "gpL53pXDDat3",
    "outputId": "50aeeadd-4da2-4076-e0e0-310d4c1e18b8"
   },
   "outputs": [
    {
     "name": "stdout",
     "output_type": "stream",
     "text": [
      "Number of samples before outlier removal: 31836\n",
      "Number of outliers: 0\n",
      "Number of outliers per feature: Browser               0\n",
      "Os.Device             0\n",
      "Source.Port           0\n",
      "Destination.Port      0\n",
      "Protocol              0\n",
      "Packet.Length         0\n",
      "Packet.Type           0\n",
      "Traffic.Type          0\n",
      "Malware.Indicators    0\n",
      "Anomaly.Scores        0\n",
      "Alerts.Warnings       0\n",
      "Attack.Signature      0\n",
      "Action.Taken          0\n",
      "Severity.Level        0\n",
      "User.Information      0\n",
      "Network.Segment       0\n",
      "Geo.location.Data     0\n",
      "Proxy.Information     0\n",
      "IDS.IPS.Alerts        0\n",
      "Log.Source            0\n",
      "dtype: int64\n"
     ]
    }
   ],
   "source": [
    "# Outlier detection\n",
    "\n",
    "# Define the mean and standard deviation (should be these from standardized data)\n",
    "data_mean = 0\n",
    "data_std = 1\n",
    "\n",
    "# Define the cutoff for outliers\n",
    "cut_off = data_std * 3\n",
    "\n",
    "# Identify outliers\n",
    "lower_bound = data_mean - cut_off\n",
    "upper_bound = data_mean + cut_off\n",
    "outliers = (X_train_balanced < lower_bound) | (X_train_balanced > upper_bound)\n",
    "\n",
    "# Outliers per column\n",
    "num_outliers = outliers.sum().sum()\n",
    "outliers_per_feature = outliers.sum()\n",
    "print(f\"Number of samples before outlier removal: {X_train_balanced.shape[0]}\")\n",
    "print(f\"Number of outliers: {num_outliers}\")\n",
    "print(f\"Number of outliers per feature: {outliers_per_feature}\")"
   ]
  },
  {
   "cell_type": "code",
   "execution_count": 793,
   "metadata": {
    "id": "uhlulxQpGGzv"
   },
   "outputs": [],
   "source": [
    "# Feature Selection Function\n",
    "\n",
    "def select_features(X: np.ndarray, y: np.ndarray, num_features: int) -> tuple[np.ndarray, sklearn.feature_selection._univariate_selection.SelectKBest]:\n",
    "\n",
    "  # Measure means between features and labels\n",
    "  fs = SelectKBest(f_classif, k = num_features)\n",
    "  fs.fit(X, y)\n",
    "  X_fs = fs.transform(X)\n",
    "  return X_fs, fs"
   ]
  },
  {
   "cell_type": "code",
   "execution_count": 794,
   "metadata": {
    "colab": {
     "base_uri": "https://localhost:8080/",
     "height": 837
    },
    "id": "Xjwk2LaaHsXr",
    "outputId": "a9cb37b8-dd6b-435f-fb3d-1f1fe0a2e9d5"
   },
   "outputs": [
    {
     "name": "stdout",
     "output_type": "stream",
     "text": [
      "ANOVA Scores:\n",
      "Feature 1: 5.2251893229240896\n",
      "Feature 2: 1.3356578549002678\n",
      "Feature 3: 0.08022093861665101\n",
      "Feature 4: 0.18665575637805765\n",
      "Feature 5: 0.5209959542037007\n",
      "Feature 6: 1.3012321502710071\n",
      "Feature 7: 2.092711925873994\n",
      "Feature 8: 0.25633319358536955\n",
      "Feature 9: 0.16093637999897983\n",
      "Feature 10: 0.2220947733676134\n",
      "Feature 11: 2.0366432663176197\n",
      "Feature 12: 0.43621360625309785\n",
      "Feature 13: 1.1874092030757761\n",
      "Feature 14: 0.5275194166555536\n",
      "Feature 15: 0.9244499529291899\n",
      "Feature 16: 0.8150713257667334\n",
      "Feature 17: 1.4572580686044376\n",
      "Feature 18: 1.266082780268029\n",
      "Feature 19: 0.27601952485339915\n",
      "Feature 20: 1.0261238031219235\n"
     ]
    },
    {
     "data": {
      "image/png": "[encoded data removed]",
      "text/plain": [
       "<Figure size 432x288 with 1 Axes>"
      ]
     },
     "metadata": {
      "needs_background": "light"
     },
     "output_type": "display_data"
    }
   ],
   "source": [
    "# Feature Selection\n",
    "\n",
    "# Select Features\n",
    "X_train_features, fs = select_features(X_train_balanced, y_train_balanced, 10)\n",
    "\n",
    "# View ANOVA scores\n",
    "print(\"ANOVA Scores:\")\n",
    "for i, score in enumerate(fs.scores_):\n",
    "    print(f\"Feature {i+1}: {score}\")\n",
    "\n",
    "# Plot the scores\n",
    "plt.bar([i for i in range(len(fs.scores_))], fs.scores_)\n",
    "plt.xlabel(\"Features\")\n",
    "plt.ylabel(\"ANOVA Scores\")\n",
    "plt.title(\"ANOVA Scores for Selected Features\")\n",
    "plt.show()"
   ]
  },
  {
   "cell_type": "code",
   "execution_count": 795,
   "metadata": {
    "colab": {
     "base_uri": "https://localhost:8080/"
    },
    "id": "1KxfTABYH-Gk",
    "outputId": "f245acf5-786c-48d7-cd44-f71f850f04f5"
   },
   "outputs": [
    {
     "name": "stdout",
     "output_type": "stream",
     "text": [
      "Feature: Browser, ANOVA Score: 5.2251893229240896\n",
      "Feature: Packet.Type, ANOVA Score: 2.092711925873994\n",
      "Feature: Alerts.Warnings, ANOVA Score: 2.0366432663176197\n",
      "Feature: Geo.location.Data, ANOVA Score: 1.4572580686044376\n",
      "Feature: Os.Device, ANOVA Score: 1.3356578549002678\n",
      "Feature: Packet.Length, ANOVA Score: 1.3012321502710071\n",
      "Feature: Proxy.Information, ANOVA Score: 1.266082780268029\n",
      "Feature: Action.Taken, ANOVA Score: 1.1874092030757761\n",
      "Feature: Log.Source, ANOVA Score: 1.0261238031219235\n",
      "Feature: User.Information, ANOVA Score: 0.9244499529291899\n",
      "Feature: Network.Segment, ANOVA Score: 0.8150713257667334\n",
      "Feature: Severity.Level, ANOVA Score: 0.5275194166555536\n",
      "Feature: Protocol, ANOVA Score: 0.5209959542037007\n",
      "Feature: Attack.Signature, ANOVA Score: 0.43621360625309785\n",
      "Feature: IDS.IPS.Alerts, ANOVA Score: 0.27601952485339915\n",
      "Feature: Traffic.Type, ANOVA Score: 0.25633319358536955\n",
      "Feature: Anomaly.Scores, ANOVA Score: 0.2220947733676134\n",
      "Feature: Destination.Port, ANOVA Score: 0.18665575637805765\n",
      "Feature: Malware.Indicators, ANOVA Score: 0.16093637999897983\n"
     ]
    }
   ],
   "source": [
    "# Print the score and label for each feature\n",
    "\n",
    "fs_scores = list(zip(fs.scores_, X_train_balanced.columns))\n",
    "fs_scores.sort(key=lambda x: x[0], reverse=True)\n",
    "\n",
    "for score, feature in fs_scores[:19]:\n",
    "    print(f\"Feature: {feature}, ANOVA Score: {score}\")"
   ]
  },
  {
   "cell_type": "markdown",
   "metadata": {},
   "source": [
    "We'll be using a ANOVA Score threshold of 0.8 for our modeling"
   ]
  },
  {
   "cell_type": "code",
   "execution_count": 796,
   "metadata": {},
   "outputs": [],
   "source": [
    "# Dropping unneccessary features\n",
    "X_train_balanced = X_train_balanced.drop(columns=['Severity.Level', 'Protocol', 'Attack.Signature', 'IDS.IPS.Alerts', 'Traffic.Type', 'Anomaly.Scores', 'Destination.Port' ,'Malware.Indicators'])\n",
    "y_train_balanced = y_train_balanced.drop(columns=['Severity.Level', 'Protocol', 'Attack.Signature', 'IDS.IPS.Alerts', 'Traffic.Type', 'Anomaly.Scores', 'Destination.Port' ,'Malware.Indicators'])\n",
    "X_test = X_test.drop(columns=['Severity.Level', 'Protocol', 'Attack.Signature', 'IDS.IPS.Alerts', 'Traffic.Type', 'Anomaly.Scores', 'Destination.Port' ,'Malware.Indicators'])"
   ]
  },
  {
   "cell_type": "code",
   "execution_count": 797,
   "metadata": {},
   "outputs": [
    {
     "name": "stdout",
     "output_type": "stream",
     "text": [
      "XGBoost - Train Accuracy: 74.3215228043724 %\n",
      "XGBoost - Test Accuracy: 33.3375 %\n",
      "\n",
      "Classification report:\n",
      "              precision    recall  f1-score   support\n",
      "\n",
      "           0       0.33      0.32      0.33      2686\n",
      "           1       0.34      0.34      0.34      2653\n",
      "           2       0.33      0.34      0.33      2661\n",
      "\n",
      "    accuracy                           0.33      8000\n",
      "   macro avg       0.33      0.33      0.33      8000\n",
      "weighted avg       0.33      0.33      0.33      8000\n",
      "\n"
     ]
    }
   ],
   "source": [
    "# XGBoost Model\n",
    "xgb_model = XGBClassifier()\n",
    "xgb_model.fit(X_train_balanced, y_train_balanced)\n",
    "\n",
    "y_predict = xgb_model.predict(X_test)\n",
    "\n",
    "print('XGBoost - Train Accuracy:', xgb_model.score(X_train_balanced, y_train_balanced) * 100, '%')\n",
    "print('XGBoost - Test Accuracy:', xgb_model.score(X_test, y_test) * 100, '%')\n",
    "\n",
    "# Print performance metrics\n",
    "print('\\nClassification report:')\n",
    "print(classification_report(y_test, y_predict))\n"
   ]
  },
  {
   "cell_type": "code",
   "execution_count": 798,
   "metadata": {},
   "outputs": [
    {
     "name": "stdout",
     "output_type": "stream",
     "text": [
      "Random Forest - Train Accuracy: 100.0 %\n",
      "Random Forest - Test Accuracy: 32.0125 %\n",
      "\n",
      "Classification report:\n",
      "              precision    recall  f1-score   support\n",
      "\n",
      "           0       0.32      0.33      0.32      2686\n",
      "           1       0.33      0.34      0.33      2653\n",
      "           2       0.31      0.29      0.30      2661\n",
      "\n",
      "    accuracy                           0.32      8000\n",
      "   macro avg       0.32      0.32      0.32      8000\n",
      "weighted avg       0.32      0.32      0.32      8000\n",
      "\n"
     ]
    }
   ],
   "source": [
    "# Random Forest Model\n",
    "rf_model = RandomForestClassifier(random_state=0)\n",
    "rf_model.fit(X_train_balanced, y_train_balanced)\n",
    "\n",
    "y_predict = rf_model.predict(X_test)\n",
    "\n",
    "print('Random Forest - Train Accuracy:', rf_model.score(X_train_balanced, y_train_balanced) * 100, '%')\n",
    "print('Random Forest - Test Accuracy:', rf_model.score(X_test, y_test) * 100, '%')\n",
    "\n",
    "# Print performance metrics\n",
    "print('\\nClassification report:')\n",
    "print(classification_report(y_test, y_predict))"
   ]
  }
 ],
 "metadata": {
  "colab": {
   "provenance": []
  },
  "kernelspec": {
   "display_name": "Python 3",
   "language": "python",
   "name": "python3"
  },
  "language_info": {
   "codemirror_mode": {
    "name": "ipython",
    "version": 3
   },
   "file_extension": ".py",
   "mimetype": "text/x-python",
   "name": "python",
   "nbconvert_exporter": "python",
   "pygments_lexer": "ipython3",
   "version": "3.10.11"
  }
 },
 "nbformat": 4,
 "nbformat_minor": 0
}
